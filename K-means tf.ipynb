{
 "cells": [
  {
   "cell_type": "code",
   "execution_count": 26,
   "metadata": {
    "collapsed": true
   },
   "outputs": [],
   "source": [
    "import tensorflow as tf\n",
    "import numpy as np\n",
    "import matplotlib.pyplot as plt\n",
    "%matplotlib inline"
   ]
  },
  {
   "cell_type": "code",
   "execution_count": 27,
   "metadata": {
    "collapsed": true
   },
   "outputs": [],
   "source": [
    "NUM_CLUSTERS = 3\n",
    "NUM_INPUTS = 4\n",
    "MAX_ITERATIONS = 20"
   ]
  },
  {
   "cell_type": "code",
   "execution_count": 28,
   "metadata": {
    "collapsed": false
   },
   "outputs": [],
   "source": [
    "iris_input = np.genfromtxt('iris.data.txt', delimiter='\\t', skip_header=1, dtype=None, usecols=(0, 1, 2, 3))\n",
    "iris_output = np.genfromtxt('iris.data.txt', delimiter='\\t', skip_header=1, dtype=str, usecols=(4,))\n",
    "INPUT_LEN = len(iris_input)"
   ]
  },
  {
   "cell_type": "code",
   "execution_count": 29,
   "metadata": {
    "collapsed": false
   },
   "outputs": [],
   "source": [
    "bounds = np.vstack((np.max(iris_input, axis=0), \n",
    "                    np.min(iris_input, axis=0))).T\n",
    "centers = tf.Variable(np.array([np.array([np.random.uniform(b[1], b[0]) for b in bounds]) for i in range(NUM_CLUSTERS)]), name='centers')\n",
    "prev = tf.Variable(tf.zeros(centers.get_shape(), dtype=tf.float64), name='prev')"
   ]
  },
  {
   "cell_type": "code",
   "execution_count": 30,
   "metadata": {
    "collapsed": false
   },
   "outputs": [],
   "source": [
    "x = tf.expand_dims(iris_input, dim=0, name='x')\n",
    "y = tf.expand_dims(centers, dim=1)\n",
    "d = tf.sqrt(tf.reduce_sum(tf.squared_difference(x, y), 2))\n",
    "cluster = tf.cast(tf.argmin(d, 0), tf.int32, name='cluster')"
   ]
  },
  {
   "cell_type": "code",
   "execution_count": 38,
   "metadata": {
    "collapsed": false
   },
   "outputs": [],
   "source": [
    "# is there any progress in training compared to previous iteration?\n",
    "cont = tf.reduce_any(tf.not_equal(tf.constant(0, dtype=tf.float64), tf.squared_difference(centers, prev)), name='continue')"
   ]
  },
  {
   "cell_type": "code",
   "execution_count": 32,
   "metadata": {
    "collapsed": false
   },
   "outputs": [],
   "source": [
    "store = tf.assign(prev, centers, name='store')\n",
    "update = tf.assign(centers, tf.concat(0, [tf.reduce_mean(tf.gather(iris_input, tf.reshape(tf.where(tf.equal(cluster, i)),[1,-1])), reduction_indices=[1]) for i in range(NUM_CLUSTERS)]), name='update')"
   ]
  },
  {
   "cell_type": "code",
   "execution_count": 41,
   "metadata": {
    "collapsed": false
   },
   "outputs": [],
   "source": [
    "sp, idx, count = tf.unique_with_counts(iris_output)"
   ]
  },
  {
   "cell_type": "code",
   "execution_count": 53,
   "metadata": {
    "collapsed": false
   },
   "outputs": [
    {
     "name": "stdout",
     "output_type": "stream",
     "text": [
      "Cluster centers:\n",
      "[[ 5.9016129   2.7483871   4.39354839  1.43387097]\n",
      " [ 6.85        3.07368421  5.74210526  2.07105263]\n",
      " [ 5.006       3.428       1.462       0.246     ]]\n",
      "\n",
      "Identified data rows (cluster ids don't match):\n",
      "[2 2 2 2 2 2 2 2 2 2 2 2 2 2 2 2 2 2 2 2 2 2 2 2 2 2 2 2 2 2 2 2 2 2 2 2 2\n",
      " 2 2 2 2 2 2 2 2 2 2 2 2 2 0 0 1 0 0 0 0 0 0 0 0 0 0 0 0 0 0 0 0 0 0 0 0 0\n",
      " 0 0 0 1 0 0 0 0 0 0 0 0 0 0 0 0 0 0 0 0 0 0 0 0 0 0 1 0 1 1 1 1 0 1 1 1 1\n",
      " 1 1 0 0 1 1 1 1 0 1 0 1 0 1 1 0 0 1 1 1 1 1 0 1 1 1 1 0 1 1 1 0 1 1 1 0 1\n",
      " 1 0]\n",
      "\n",
      "Original dataset:\n",
      "[b'I_setosa' b'I_versicolor' b'I_virginica']\n",
      "[0 0 0 0 0 0 0 0 0 0 0 0 0 0 0 0 0 0 0 0 0 0 0 0 0 0 0 0 0 0 0 0 0 0 0 0 0\n",
      " 0 0 0 0 0 0 0 0 0 0 0 0 0 1 1 1 1 1 1 1 1 1 1 1 1 1 1 1 1 1 1 1 1 1 1 1 1\n",
      " 1 1 1 1 1 1 1 1 1 1 1 1 1 1 1 1 1 1 1 1 1 1 1 1 1 1 2 2 2 2 2 2 2 2 2 2 2\n",
      " 2 2 2 2 2 2 2 2 2 2 2 2 2 2 2 2 2 2 2 2 2 2 2 2 2 2 2 2 2 2 2 2 2 2 2 2 2\n",
      " 2 2]\n"
     ]
    }
   ],
   "source": [
    "init = tf.initialize_all_variables()\n",
    "with tf.Session() as session:\n",
    "    summary_writer = tf.train.SummaryWriter('log', session.graph)\n",
    "    session.run(init)\n",
    "    while session.run(cont):\n",
    "        session.run(store)\n",
    "        session.run(update)\n",
    "\n",
    "    c = session.run(centers)\n",
    "    print('Cluster centers:')\n",
    "    print(c)\n",
    "    cl = session.run(cluster)\n",
    "    print(\"\\nIdentified data rows (cluster ids don't match):\")\n",
    "    print(cl)\n",
    "    \n",
    "    print('\\nOriginal dataset:')    \n",
    "    print(session.run(sp))\n",
    "    print(session.run(idx))"
   ]
  },
  {
   "cell_type": "code",
   "execution_count": 34,
   "metadata": {
    "collapsed": false
   },
   "outputs": [
    {
     "data": {
      "text/plain": [
       "[<matplotlib.lines.Line2D at 0x7f852f6e4cf8>]"
      ]
     },
     "execution_count": 34,
     "metadata": {},
     "output_type": "execute_result"
    },
    {
     "data": {
      "image/png": "[encoded data removed]",
      "text/plain": [
       "<matplotlib.figure.Figure at 0x7f852f6e4d30>"
      ]
     },
     "metadata": {},
     "output_type": "display_data"
    }
   ],
   "source": [
    "plt.plot(iris_input[:,2], iris_input[:,3], \".\")\n",
    "plt.plot(c[:,2], c[:,3], \"o\", color='red')"
   ]
  },
  {
   "cell_type": "code",
   "execution_count": null,
   "metadata": {
    "collapsed": true
   },
   "outputs": [],
   "source": []
  }
 ],
 "metadata": {
  "kernelspec": {
   "display_name": "Python 3",
   "language": "python",
   "name": "python3"
  },
  "language_info": {
   "codemirror_mode": {
    "name": "ipython",
    "version": 3
   },
   "file_extension": ".py",
   "mimetype": "text/x-python",
   "name": "python",
   "nbconvert_exporter": "python",
   "pygments_lexer": "ipython3",
   "version": "3.5.2"
  }
 },
 "nbformat": 4,
 "nbformat_minor": 0
}
