{
 "cells": [
  {
   "cell_type": "code",
   "execution_count": 54,
   "metadata": {
    "collapsed": true
   },
   "outputs": [],
   "source": [
    "import tensorflow as tf\n",
    "import numpy as np\n",
    "import matplotlib.pyplot as plt\n",
    "%matplotlib inline"
   ]
  },
  {
   "cell_type": "code",
   "execution_count": 55,
   "metadata": {
    "collapsed": true
   },
   "outputs": [],
   "source": [
    "NUM_CLUSTERS = 3\n",
    "NUM_INPUTS = 4\n",
    "MAX_ITERATIONS = 100"
   ]
  },
  {
   "cell_type": "code",
   "execution_count": 56,
   "metadata": {
    "collapsed": false
   },
   "outputs": [],
   "source": [
    "iris_input = np.genfromtxt('iris.data.txt', delimiter='\\t', skip_header=1, dtype=None, usecols=(0, 1, 2, 3))\n",
    "iris_output = np.genfromtxt('iris.data.txt', delimiter='\\t', skip_header=1, dtype=str, usecols=(4,))\n",
    "INPUT_LEN = len(iris_input)"
   ]
  },
  {
   "cell_type": "code",
   "execution_count": 57,
   "metadata": {
    "collapsed": false
   },
   "outputs": [],
   "source": [
    "bounds = np.vstack((np.max(iris_input, axis=0), \n",
    "                    np.min(iris_input, axis=0))).T\n",
    "centers = tf.Variable(np.array([np.array([np.random.uniform(b[1], b[0]) for b in bounds]) for i in range(NUM_CLUSTERS)]), name='centers')\n",
    "prev = tf.Variable(tf.zeros(centers.get_shape(), dtype=tf.float64), name='prev')"
   ]
  },
  {
   "cell_type": "code",
   "execution_count": 58,
   "metadata": {
    "collapsed": false
   },
   "outputs": [],
   "source": [
    "x = tf.expand_dims(iris_input, dim=0, name='x')\n",
    "y = tf.expand_dims(centers, dim=1)\n",
    "d = tf.sqrt(tf.reduce_sum(tf.squared_difference(x, y), 2))\n",
    "cluster = tf.cast(tf.argmin(d, 0), tf.int32, name='cluster')"
   ]
  },
  {
   "cell_type": "code",
   "execution_count": 59,
   "metadata": {
    "collapsed": false
   },
   "outputs": [],
   "source": [
    "# is there any progress in training compared to previous iteration?\n",
    "cont = tf.reduce_any(tf.not_equal(tf.constant(0, dtype=tf.float64), tf.squared_difference(centers, prev)), name='continue')"
   ]
  },
  {
   "cell_type": "code",
   "execution_count": 60,
   "metadata": {
    "collapsed": false
   },
   "outputs": [],
   "source": [
    "store = tf.assign(prev, centers, name='store')\n",
    "update = tf.assign(centers, tf.concat(0, [tf.reduce_mean(tf.gather(iris_input, tf.reshape(tf.where(tf.equal(cluster, i)),[1,-1])), reduction_indices=[1]) for i in range(NUM_CLUSTERS)]), name='update')"
   ]
  },
  {
   "cell_type": "code",
   "execution_count": 61,
   "metadata": {
    "collapsed": false
   },
   "outputs": [],
   "source": [
    "sp, idx, count = tf.unique_with_counts(iris_output)"
   ]
  },
  {
   "cell_type": "code",
   "execution_count": 62,
   "metadata": {
    "collapsed": false
   },
   "outputs": [
    {
     "name": "stdout",
     "output_type": "stream",
     "text": [
      "Cluster centers:\n",
      "[[ 6.31458333  2.89583333  4.97395833  1.703125  ]\n",
      " [ 5.19375     3.63125     1.475       0.271875  ]\n",
      " [ 4.73181818  2.92727273  1.77272727  0.35      ]]\n",
      "\n",
      "Identified data rows (cluster ids don't match):\n",
      "[1 2 2 2 1 1 2 1 2 2 1 1 2 2 1 1 1 1 1 1 1 1 1 1 2 2 1 1 1 2 2 1 1 1 2 1 1\n",
      " 1 2 1 1 2 2 1 1 2 1 2 1 1 0 0 0 0 0 0 0 2 0 0 2 0 0 0 0 0 0 0 0 0 0 0 0 0\n",
      " 0 0 0 0 0 0 0 0 0 0 0 0 0 0 0 0 0 0 0 2 0 0 0 0 2 0 0 0 0 0 0 0 0 0 0 0 0\n",
      " 0 0 0 0 0 0 0 0 0 0 0 0 0 0 0 0 0 0 0 0 0 0 0 0 0 0 0 0 0 0 0 0 0 0 0 0 0\n",
      " 0 0]\n",
      "\n",
      "Original dataset:\n",
      "[b'I_setosa' b'I_versicolor' b'I_virginica']\n",
      "[0 0 0 0 0 0 0 0 0 0 0 0 0 0 0 0 0 0 0 0 0 0 0 0 0 0 0 0 0 0 0 0 0 0 0 0 0\n",
      " 0 0 0 0 0 0 0 0 0 0 0 0 0 1 1 1 1 1 1 1 1 1 1 1 1 1 1 1 1 1 1 1 1 1 1 1 1\n",
      " 1 1 1 1 1 1 1 1 1 1 1 1 1 1 1 1 1 1 1 1 1 1 1 1 1 1 2 2 2 2 2 2 2 2 2 2 2\n",
      " 2 2 2 2 2 2 2 2 2 2 2 2 2 2 2 2 2 2 2 2 2 2 2 2 2 2 2 2 2 2 2 2 2 2 2 2 2\n",
      " 2 2]\n"
     ]
    }
   ],
   "source": [
    "init = tf.initialize_all_variables()\n",
    "with tf.Session() as session:\n",
    "    session.run(init)\n",
    "    n = 0\n",
    "    while session.run(cont) and n < MAX_ITERATIONS:\n",
    "        session.run(store)\n",
    "        session.run(update)\n",
    "        n += 1\n",
    "\n",
    "    c = session.run(centers)\n",
    "    print('Cluster centers:')\n",
    "    print(c)\n",
    "    cl = session.run(cluster)\n",
    "    print(\"\\nIdentified data rows (cluster ids don't match):\")\n",
    "    print(cl)\n",
    "    \n",
    "    print('\\nOriginal dataset:')    \n",
    "    print(session.run(sp))\n",
    "    print(session.run(idx))"
   ]
  },
  {
   "cell_type": "code",
   "execution_count": 63,
   "metadata": {
    "collapsed": false
   },
   "outputs": [
    {
     "data": {
      "text/plain": [
       "[<matplotlib.lines.Line2D at 0x7f852f573208>]"
      ]
     },
     "execution_count": 63,
     "metadata": {},
     "output_type": "execute_result"
    },
    {
     "data": {
      "image/png": "[encoded data removed]",
      "text/plain": [
       "<matplotlib.figure.Figure at 0x7f852f573198>"
      ]
     },
     "metadata": {},
     "output_type": "display_data"
    }
   ],
   "source": [
    "plt.plot(iris_input[:,2], iris_input[:,3], \".\")\n",
    "plt.plot(c[:,2], c[:,3], \"o\", color='red')"
   ]
  },
  {
   "cell_type": "code",
   "execution_count": null,
   "metadata": {
    "collapsed": true
   },
   "outputs": [],
   "source": []
  }
 ],
 "metadata": {
  "kernelspec": {
   "display_name": "Python 3",
   "language": "python",
   "name": "python3"
  },
  "language_info": {
   "codemirror_mode": {
    "name": "ipython",
    "version": 3
   },
   "file_extension": ".py",
   "mimetype": "text/x-python",
   "name": "python",
   "nbconvert_exporter": "python",
   "pygments_lexer": "ipython3",
   "version": "3.5.2"
  }
 },
 "nbformat": 4,
 "nbformat_minor": 0
}
