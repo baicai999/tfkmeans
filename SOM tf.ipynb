{
 "cells": [
  {
   "cell_type": "code",
   "execution_count": 1,
   "metadata": {
    "collapsed": true
   },
   "outputs": [],
   "source": [
    "import tensorflow as tf\n",
    "import numpy as np\n",
    "import matplotlib.pyplot as plt\n",
    "import matplotlib.gridspec as gridspec\n",
    "import math\n",
    "%matplotlib inline"
   ]
  },
  {
   "cell_type": "code",
   "execution_count": 2,
   "metadata": {
    "collapsed": true
   },
   "outputs": [],
   "source": [
    "SOM_WIDTH = 40\n",
    "SOM_HEIGHT = 40\n",
    "SOM_LEN = SOM_WIDTH * SOM_HEIGHT\n",
    "NUM_INPUTS = 4"
   ]
  },
  {
   "cell_type": "code",
   "execution_count": 3,
   "metadata": {
    "collapsed": false
   },
   "outputs": [],
   "source": [
    "# load training data\n",
    "iris_input = np.genfromtxt('iris.data.txt', delimiter='\\t', skip_header=1, dtype=np.float64, usecols=(0, 1, 2, 3))\n",
    "iris_output = np.genfromtxt('iris.data.txt', delimiter='\\t', skip_header=1, dtype=str, usecols=(4,))\n",
    "INPUT_LEN = len(iris_input)"
   ]
  },
  {
   "cell_type": "code",
   "execution_count": 4,
   "metadata": {
    "collapsed": false
   },
   "outputs": [],
   "source": [
    "# map weights (internal representation is 1D and converted to 2D only for visualization)\n",
    "weights = tf.Variable(tf.random_uniform([SOM_LEN, NUM_INPUTS], minval=-1.0, maxval=1.0, dtype=tf.float64), name='weights')"
   ]
  },
  {
   "cell_type": "code",
   "execution_count": 5,
   "metadata": {
    "collapsed": true
   },
   "outputs": [],
   "source": [
    "# radius of neighboorhood affected by weights adjustment\n",
    "radius = tf.placeholder(tf.float64, [1], name='radius')\n",
    "\n",
    "# learning rate\n",
    "alpha = tf.placeholder(tf.float64, [1], name='alpha')"
   ]
  },
  {
   "cell_type": "code",
   "execution_count": 6,
   "metadata": {
    "collapsed": true
   },
   "outputs": [],
   "source": [
    "# map nodes indices used in 1D->2D conversion\n",
    "nodes = tf.reshape(tf.transpose(tf.constant(np.indices((SOM_HEIGHT, SOM_WIDTH))), perm=[1, 2, 0]), [SOM_LEN, 2])"
   ]
  },
  {
   "cell_type": "code",
   "execution_count": 7,
   "metadata": {
    "collapsed": true
   },
   "outputs": [],
   "source": [
    "def to2d(x):\n",
    "    return [x // SOM_WIDTH, x % SOM_WIDTH]"
   ]
  },
  {
   "cell_type": "code",
   "execution_count": 8,
   "metadata": {
    "collapsed": true
   },
   "outputs": [],
   "source": [
    "def to1d(h, w):\n",
    "    return h * SOM_WIDTH + w"
   ]
  },
  {
   "cell_type": "code",
   "execution_count": 9,
   "metadata": {
    "collapsed": false
   },
   "outputs": [
    {
     "name": "stdout",
     "output_type": "stream",
     "text": [
      "(1, 4, 1)\n",
      "(1600, 4, 1)\n"
     ]
    }
   ],
   "source": [
    "random_index = tf.random_uniform([1], minval=0, maxval=INPUT_LEN, dtype=tf.int32)\n",
    "data_vector = tf.gather(iris_input, random_index)\n",
    "x = tf.expand_dims(tf.transpose(data_vector), 0)\n",
    "w = tf.expand_dims(weights, 2)\n",
    "\n",
    "# distance from map nodes to input vectors\n",
    "dist = tf.sqrt(tf.reduce_sum(tf.squared_difference(data_vector, w), reduction_indices=[1, 2]), 'dist')\n",
    "print(x.get_shape())\n",
    "print(w.get_shape())\n",
    "\n",
    "# best matching unit (BMU) index\n",
    "bmu = tf.argmin(dist, 0, name='bmu')\n",
    "\n",
    "# map in 2D\n",
    "weights2d = tf.reshape(weights, [SOM_HEIGHT, SOM_WIDTH, NUM_INPUTS])"
   ]
  },
  {
   "cell_type": "code",
   "execution_count": 10,
   "metadata": {
    "collapsed": false
   },
   "outputs": [],
   "source": [
    "# BMU coordinates in 2D\n",
    "bmuc = tf.convert_to_tensor(to2d(bmu))\n",
    "\n",
    "# distance from map nodes to BMU\n",
    "distance_to_bmu = tf.sqrt(tf.reduce_sum(tf.cast(tf.squared_difference(bmuc, nodes), dtype=tf.float64), reduction_indices=[1]))\n",
    "distance_to_bmu2d = tf.reshape(distance_to_bmu, [SOM_HEIGHT, SOM_WIDTH])\n",
    "\n",
    "# neighbourhood function (how map nodes will be affected by weights adjustment)\n",
    "nf = tf.maximum(-(distance_to_bmu - radius) / radius, 0)\n",
    "nf2d = tf.reshape(nf, [SOM_HEIGHT, SOM_WIDTH])"
   ]
  },
  {
   "cell_type": "code",
   "execution_count": 11,
   "metadata": {
    "collapsed": false
   },
   "outputs": [],
   "source": [
    "adjusted = weights + tf.expand_dims(nf, 1) * tf.expand_dims(alpha, 1) * (data_vector - weights)\n",
    "adj2d = tf.reshape(adjusted, [SOM_HEIGHT, SOM_WIDTH, NUM_INPUTS])\n",
    "adjust = tf.assign(weights, adjusted)"
   ]
  },
  {
   "cell_type": "code",
   "execution_count": 12,
   "metadata": {
    "collapsed": false
   },
   "outputs": [
    {
     "name": "stdout",
     "output_type": "stream",
     "text": [
      "(150,)\n",
      "(150, 2)\n"
     ]
    }
   ],
   "source": [
    "xe = tf.expand_dims(tf.transpose(iris_input), 0)\n",
    "de = tf.argmin(tf.sqrt(tf.reduce_sum(tf.squared_difference(xe, w), reduction_indices=[1])), 0)\n",
    "print(de.get_shape())\n",
    "de2d = tf.transpose(tf.pack(to2d(de)))\n",
    "print(de2d.get_shape())\n",
    "# average quantization error\n",
    "aqe = tf.reduce_mean(tf.sqrt(tf.reduce_sum(tf.squared_difference(iris_input, tf.gather(weights, de)), 1)))"
   ]
  },
  {
   "cell_type": "code",
   "execution_count": 13,
   "metadata": {
    "collapsed": true
   },
   "outputs": [],
   "source": [
    "INITIAL_RADIUS = 60\n",
    "MAX_ITERATIONS = 300\n",
    "ALPHA = 0.1\n",
    "RADIUS_DECAY_FACTOR = 2  # radius is r / e^2 at t = MAX_ITERATIONS"
   ]
  },
  {
   "cell_type": "code",
   "execution_count": 14,
   "metadata": {
    "collapsed": true
   },
   "outputs": [],
   "source": [
    "def adjacent(x):\n",
    "    h, w = to2d(x)\n",
    "    nn = ((-1, -1), (-1, 0), (-1, 1),\n",
    "          ( 0, -1),          ( 0, 1),\n",
    "          ( 1, -1), ( 1, 0), ( 1, 1))\n",
    "    neighbours = ((h + i[0], w + i[1]) for i in nn)\n",
    "    # resolve edge cases\n",
    "    filtered_neighbours = filter(lambda x: x[0]>=0 and x[1]>=0 and x[0]<SOM_HEIGHT and x[1]<SOM_WIDTH, neighbours)\n",
    "    return np.array([to1d(a, b) for a, b in filtered_neighbours])"
   ]
  },
  {
   "cell_type": "code",
   "execution_count": 15,
   "metadata": {
    "collapsed": false
   },
   "outputs": [],
   "source": [
    "node = tf.placeholder(tf.int32, shape=[])\n",
    "neighbours = tf.placeholder(tf.int32, shape=[None])\n",
    "nodew = weights[node]\n",
    "umatrix_avg_dist = tf.reduce_mean(tf.reduce_sum(tf.squared_difference(nodew, tf.gather(weights, neighbours)), reduction_indices=[1]))"
   ]
  },
  {
   "cell_type": "code",
   "execution_count": 19,
   "metadata": {
    "collapsed": false
   },
   "outputs": [
    {
     "name": "stdout",
     "output_type": "stream",
     "text": [
      "average quantization error:  0.49359229209\n"
     ]
    }
   ],
   "source": [
    "init = tf.global_variables_initializer()\n",
    "with tf.Session() as session:\n",
    "    session.run(init)\n",
    "    for t in range(MAX_ITERATIONS):\n",
    "        values = {\n",
    "            radius: [INITIAL_RADIUS * math.exp(-t / MAX_ITERATIONS * RADIUS_DECAY_FACTOR)], \n",
    "            alpha: [ALPHA]\n",
    "        }\n",
    "        session.run(adjust, feed_dict=values)\n",
    "\n",
    "    print('average quantization error: ', session.run(aqe))\n",
    "    dd = session.run(de2d)\n",
    "    w1 = session.run(weights2d)\n",
    "    \n",
    "    ul = []\n",
    "    for i in range(SOM_HEIGHT):\n",
    "        for j in range(SOM_WIDTH):\n",
    "            n = to1d(i, j)\n",
    "            ul.append(session.run(umatrix_avg_dist, feed_dict={node: n, neighbours: adjacent(n)}))\n",
    "    umatrix = np.array(ul).reshape((SOM_WIDTH, SOM_HEIGHT))"
   ]
  },
  {
   "cell_type": "code",
   "execution_count": 20,
   "metadata": {
    "collapsed": false,
    "scrolled": true
   },
   "outputs": [
    {
     "data": {
      "image/png": "[encoded data removed]",
      "text/plain": [
       "<matplotlib.figure.Figure at 0x7f9aac5a9eb8>"
      ]
     },
     "metadata": {},
     "output_type": "display_data"
    }
   ],
   "source": [
    "fig = plt.figure()\n",
    "gs = gridspec.GridSpec(2, 2)\n",
    "\n",
    "titles = [\n",
    "    'Sepal length',\n",
    "    'Sepal width',\n",
    "    'Petal length',\n",
    "    'Petal_width'\n",
    "]\n",
    "\n",
    "for i in range(2):\n",
    "    for j in range(2):\n",
    "        k = i * 2 + j\n",
    "        a = plt.subplot(gs[i, j])\n",
    "        fig.add_subplot(a)\n",
    "        plt.title(titles[k])\n",
    "        plt.imshow(w1[:,:,k], interpolation='none')\n",
    "        plt.colorbar()"
   ]
  },
  {
   "cell_type": "code",
   "execution_count": 21,
   "metadata": {
    "collapsed": false
   },
   "outputs": [
    {
     "data": {
      "text/plain": [
       "<matplotlib.colorbar.Colorbar at 0x7f9aac904198>"
      ]
     },
     "execution_count": 21,
     "metadata": {},
     "output_type": "execute_result"
    },
    {
     "data": {
      "image/png": "[encoded data removed]",
      "text/plain": [
       "<matplotlib.figure.Figure at 0x7f9aac5f9240>"
      ]
     },
     "metadata": {},
     "output_type": "display_data"
    }
   ],
   "source": [
    "plt.imshow(umatrix, interpolation='none')\n",
    "plt.colorbar()"
   ]
  },
  {
   "cell_type": "code",
   "execution_count": null,
   "metadata": {
    "collapsed": true
   },
   "outputs": [],
   "source": []
  }
 ],
 "metadata": {
  "kernelspec": {
   "display_name": "Python 3",
   "language": "python",
   "name": "python3"
  },
  "language_info": {
   "codemirror_mode": {
    "name": "ipython",
    "version": 3
   },
   "file_extension": ".py",
   "mimetype": "text/x-python",
   "name": "python",
   "nbconvert_exporter": "python",
   "pygments_lexer": "ipython3",
   "version": "3.5.2"
  }
 },
 "nbformat": 4,
 "nbformat_minor": 0
}
