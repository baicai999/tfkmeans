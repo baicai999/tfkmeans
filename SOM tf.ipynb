{
 "cells": [
  {
   "cell_type": "code",
   "execution_count": 1,
   "metadata": {
    "collapsed": true
   },
   "outputs": [],
   "source": [
    "import tensorflow as tf\n",
    "import numpy as np\n",
    "import matplotlib.pyplot as plt\n",
    "import matplotlib.gridspec as gridspec\n",
    "import math\n",
    "%matplotlib inline"
   ]
  },
  {
   "cell_type": "code",
   "execution_count": 2,
   "metadata": {
    "collapsed": true
   },
   "outputs": [],
   "source": [
    "SOM_WIDTH = 40\n",
    "SOM_HEIGHT = 40\n",
    "SOM_LEN = SOM_WIDTH * SOM_HEIGHT\n",
    "NUM_INPUTS = 4"
   ]
  },
  {
   "cell_type": "code",
   "execution_count": 3,
   "metadata": {
    "collapsed": false
   },
   "outputs": [],
   "source": [
    "# load training data\n",
    "iris_input = np.genfromtxt('iris.data.txt', delimiter='\\t', skip_header=1, dtype=np.float64, usecols=(0, 1, 2, 3))\n",
    "iris_output = np.genfromtxt('iris.data.txt', delimiter='\\t', skip_header=1, dtype=str, usecols=(4,))\n",
    "INPUT_LEN = len(iris_input)"
   ]
  },
  {
   "cell_type": "code",
   "execution_count": 4,
   "metadata": {
    "collapsed": false
   },
   "outputs": [],
   "source": [
    "# map weights (internal representation is 1D and converted to 2D only for visualization)\n",
    "weights = tf.Variable(tf.random_uniform([SOM_LEN, NUM_INPUTS], minval=-1.0, maxval=1.0, dtype=tf.float64), name='weights')"
   ]
  },
  {
   "cell_type": "code",
   "execution_count": 5,
   "metadata": {
    "collapsed": true
   },
   "outputs": [],
   "source": [
    "# radius of neighboorhood affected by weights adjustment\n",
    "radius = tf.placeholder(tf.float64, [1], name='radius')\n",
    "\n",
    "# learning rate\n",
    "alpha = tf.placeholder(tf.float64, [1], name='alpha')"
   ]
  },
  {
   "cell_type": "code",
   "execution_count": 6,
   "metadata": {
    "collapsed": true
   },
   "outputs": [],
   "source": [
    "# map nodes indices used in 1D->2D conversion\n",
    "nodes = tf.reshape(tf.transpose(tf.constant(np.indices((SOM_HEIGHT, SOM_WIDTH))), perm=[1, 2, 0]), [SOM_LEN, 2])"
   ]
  },
  {
   "cell_type": "code",
   "execution_count": 7,
   "metadata": {
    "collapsed": false
   },
   "outputs": [
    {
     "name": "stdout",
     "output_type": "stream",
     "text": [
      "(1, 4, 1)\n",
      "(1600, 4, 1)\n"
     ]
    }
   ],
   "source": [
    "random_index = tf.random_uniform([1], minval=0, maxval=INPUT_LEN, dtype=tf.int32)\n",
    "data_vector = tf.gather(iris_input, random_index)\n",
    "x = tf.expand_dims(tf.transpose(data_vector), 0)\n",
    "w = tf.expand_dims(weights, 2)\n",
    "\n",
    "# distance from map nodes to input vectors\n",
    "dist = tf.sqrt(tf.reduce_sum(tf.squared_difference(data_vector, w), reduction_indices=[1, 2]), 'dist')\n",
    "print(x.get_shape())\n",
    "print(w.get_shape())\n",
    "\n",
    "# best matching unit (BMU) index\n",
    "bmu = tf.argmin(dist, 0, name='bmu')\n",
    "\n",
    "# map in 2D\n",
    "weights2d = tf.reshape(weights, [SOM_HEIGHT, SOM_WIDTH, NUM_INPUTS])"
   ]
  },
  {
   "cell_type": "code",
   "execution_count": 8,
   "metadata": {
    "collapsed": false
   },
   "outputs": [],
   "source": [
    "# BMU coordinates in 2D\n",
    "bmuc = tf.convert_to_tensor([bmu // SOM_WIDTH, bmu % SOM_HEIGHT])\n",
    "\n",
    "# distance from map nodes to BMU\n",
    "distance_to_bmu = tf.sqrt(tf.reduce_sum(tf.cast(tf.squared_difference(bmuc, nodes), dtype=tf.float64), reduction_indices=[1]))\n",
    "distance_to_bmu2d = tf.reshape(distance_to_bmu, [SOM_HEIGHT, SOM_WIDTH])\n",
    "\n",
    "# neighbourhood function (how map nodes will be affected by weights adjustment)\n",
    "nf = tf.maximum(-(distance_to_bmu - radius) / radius, 0)\n",
    "nf2d = tf.reshape(nf, [SOM_HEIGHT, SOM_WIDTH])"
   ]
  },
  {
   "cell_type": "code",
   "execution_count": 9,
   "metadata": {
    "collapsed": false
   },
   "outputs": [],
   "source": [
    "adjusted = weights + tf.expand_dims(nf, 1) * tf.expand_dims(alpha, 1) * (data_vector - weights)\n",
    "adj2d = tf.reshape(adjusted, [SOM_HEIGHT, SOM_WIDTH, NUM_INPUTS])\n",
    "adjust = tf.assign(weights, adjusted)"
   ]
  },
  {
   "cell_type": "code",
   "execution_count": 12,
   "metadata": {
    "collapsed": false
   },
   "outputs": [
    {
     "name": "stdout",
     "output_type": "stream",
     "text": [
      "(150,)\n",
      "(150, 2)\n"
     ]
    }
   ],
   "source": [
    "xe = tf.expand_dims(tf.transpose(iris_input), 0)\n",
    "de = tf.argmin(tf.sqrt(tf.reduce_sum(tf.squared_difference(xe, w), reduction_indices=[1])), 0)\n",
    "print(de.get_shape())\n",
    "de2d = tf.transpose(tf.pack([de // SOM_WIDTH, de % SOM_HEIGHT]))\n",
    "print(de2d.get_shape())\n",
    "# average quantization error\n",
    "aqe = tf.reduce_mean(tf.sqrt(tf.reduce_sum(tf.squared_difference(iris_input, tf.gather(weights, de)), 1)))"
   ]
  },
  {
   "cell_type": "code",
   "execution_count": 79,
   "metadata": {
    "collapsed": true
   },
   "outputs": [],
   "source": [
    "INITIAL_RADIUS = 60\n",
    "MAX_ITERATIONS = 300\n",
    "ALPHA = 0.1\n",
    "RADIUS_DECAY_FACTOR = 2  # radius is r / e^2 at t = MAX_ITERATIONS"
   ]
  },
  {
   "cell_type": "code",
   "execution_count": 82,
   "metadata": {
    "collapsed": false
   },
   "outputs": [
    {
     "name": "stdout",
     "output_type": "stream",
     "text": [
      "average quantization error:  0.522538289191\n"
     ]
    }
   ],
   "source": [
    "init = tf.initialize_all_variables()\n",
    "with tf.Session() as session:\n",
    "    session.run(init)\n",
    "    for t in range(MAX_ITERATIONS):\n",
    "        values = {\n",
    "            radius: [INITIAL_RADIUS * math.exp(-t / MAX_ITERATIONS * RADIUS_DECAY_FACTOR)], \n",
    "            alpha: [ALPHA]\n",
    "        }\n",
    "        session.run(adjust, feed_dict=values)\n",
    "\n",
    "    print('average quantization error: ', session.run(aqe))\n",
    "    dd = session.run(de2d)\n",
    "    w1 = session.run(weights2d)"
   ]
  },
  {
   "cell_type": "code",
   "execution_count": 83,
   "metadata": {
    "collapsed": false,
    "scrolled": true
   },
   "outputs": [
    {
     "data": {
      "image/png": "[encoded data removed]",
      "text/plain": [
       "<matplotlib.figure.Figure at 0x7fc0866adc88>"
      ]
     },
     "metadata": {},
     "output_type": "display_data"
    }
   ],
   "source": [
    "fig = plt.figure()\n",
    "gs = gridspec.GridSpec(2, 2)\n",
    "\n",
    "titles = [\n",
    "    'Sepal length',\n",
    "    'Sepal width',\n",
    "    'Petal length',\n",
    "    'Petal_width'\n",
    "]\n",
    "\n",
    "for i in range(2):\n",
    "    for j in range(2):\n",
    "        k = i * 2 + j\n",
    "        a = plt.subplot(gs[i, j])\n",
    "        fig.add_subplot(a)\n",
    "        plt.title(titles[k])\n",
    "        plt.imshow(w1[:,:,k], interpolation='none')\n",
    "        plt.colorbar()"
   ]
  },
  {
   "cell_type": "code",
   "execution_count": 87,
   "metadata": {
    "collapsed": false
   },
   "outputs": [
    {
     "data": {
      "text/plain": [
       "<matplotlib.collections.PathCollection at 0x7fc098048240>"
      ]
     },
     "execution_count": 87,
     "metadata": {},
     "output_type": "execute_result"
    },
    {
     "data": {
      "image/png": "[encoded data removed]",
      "text/plain": [
       "<matplotlib.figure.Figure at 0x7fc0862490f0>"
      ]
     },
     "metadata": {},
     "output_type": "display_data"
    }
   ],
   "source": [
    "plt.scatter(dd[:,0], dd[:,1])"
   ]
  },
  {
   "cell_type": "code",
   "execution_count": null,
   "metadata": {
    "collapsed": true
   },
   "outputs": [],
   "source": []
  }
 ],
 "metadata": {
  "kernelspec": {
   "display_name": "Python 3",
   "language": "python",
   "name": "python3"
  },
  "language_info": {
   "codemirror_mode": {
    "name": "ipython",
    "version": 3
   },
   "file_extension": ".py",
   "mimetype": "text/x-python",
   "name": "python",
   "nbconvert_exporter": "python",
   "pygments_lexer": "ipython3",
   "version": "3.5.2"
  }
 },
 "nbformat": 4,
 "nbformat_minor": 0
}
